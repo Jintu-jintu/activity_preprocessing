{
 "cells": [
  {
   "cell_type": "code",
   "execution_count": 1,
   "id": "eca737ec",
   "metadata": {},
   "outputs": [],
   "source": [
    "import numpy as np\n",
    "import pandas as pd\n",
    "import seaborn as sns\n",
    "import matplotlib.pyplot as plt \n",
    "import warnings\n",
    "warnings.filterwarnings('ignore')"
   ]
  },
  {
   "cell_type": "markdown",
   "id": "8869f29b",
   "metadata": {},
   "source": [
    "# 1. Load dataset and  dentify some basic details of the dataset."
   ]
  },
  {
   "cell_type": "code",
   "execution_count": 2,
   "id": "24335730",
   "metadata": {},
   "outputs": [],
   "source": [
    "df = pd.read_csv(r'D:\\ICT kerala\\week10_preprocess\\employee.csv')"
   ]
  },
  {
   "cell_type": "code",
   "execution_count": 3,
   "id": "b5cf4e4c",
   "metadata": {},
   "outputs": [
    {
     "data": {
      "text/html": [
       "<div>\n",
       "<style scoped>\n",
       "    .dataframe tbody tr th:only-of-type {\n",
       "        vertical-align: middle;\n",
       "    }\n",
       "\n",
       "    .dataframe tbody tr th {\n",
       "        vertical-align: top;\n",
       "    }\n",
       "\n",
       "    .dataframe thead th {\n",
       "        text-align: right;\n",
       "    }\n",
       "</style>\n",
       "<table border=\"1\" class=\"dataframe\">\n",
       "  <thead>\n",
       "    <tr style=\"text-align: right;\">\n",
       "      <th></th>\n",
       "      <th>name</th>\n",
       "      <th>age</th>\n",
       "      <th>income</th>\n",
       "      <th>gender</th>\n",
       "      <th>department</th>\n",
       "      <th>grade</th>\n",
       "      <th>performance_score</th>\n",
       "    </tr>\n",
       "  </thead>\n",
       "  <tbody>\n",
       "    <tr>\n",
       "      <th>0</th>\n",
       "      <td>Allen Smith</td>\n",
       "      <td>45.0</td>\n",
       "      <td>NaN</td>\n",
       "      <td>NaN</td>\n",
       "      <td>Operations</td>\n",
       "      <td>G3</td>\n",
       "      <td>723</td>\n",
       "    </tr>\n",
       "    <tr>\n",
       "      <th>1</th>\n",
       "      <td>S Kumar</td>\n",
       "      <td>NaN</td>\n",
       "      <td>16000.0</td>\n",
       "      <td>F</td>\n",
       "      <td>Finance</td>\n",
       "      <td>G0</td>\n",
       "      <td>520</td>\n",
       "    </tr>\n",
       "    <tr>\n",
       "      <th>2</th>\n",
       "      <td>Jack Morgan</td>\n",
       "      <td>32.0</td>\n",
       "      <td>35000.0</td>\n",
       "      <td>M</td>\n",
       "      <td>Finance</td>\n",
       "      <td>G2</td>\n",
       "      <td>674</td>\n",
       "    </tr>\n",
       "    <tr>\n",
       "      <th>3</th>\n",
       "      <td>Ying Chin</td>\n",
       "      <td>45.0</td>\n",
       "      <td>65000.0</td>\n",
       "      <td>F</td>\n",
       "      <td>Sales</td>\n",
       "      <td>G3</td>\n",
       "      <td>556</td>\n",
       "    </tr>\n",
       "    <tr>\n",
       "      <th>4</th>\n",
       "      <td>Dheeraj Patel</td>\n",
       "      <td>30.0</td>\n",
       "      <td>42000.0</td>\n",
       "      <td>F</td>\n",
       "      <td>Operations</td>\n",
       "      <td>G2</td>\n",
       "      <td>711</td>\n",
       "    </tr>\n",
       "  </tbody>\n",
       "</table>\n",
       "</div>"
      ],
      "text/plain": [
       "            name   age   income gender  department grade  performance_score\n",
       "0    Allen Smith  45.0      NaN    NaN  Operations    G3                723\n",
       "1        S Kumar   NaN  16000.0      F     Finance    G0                520\n",
       "2    Jack Morgan  32.0  35000.0      M     Finance    G2                674\n",
       "3      Ying Chin  45.0  65000.0      F       Sales    G3                556\n",
       "4  Dheeraj Patel  30.0  42000.0      F  Operations    G2                711"
      ]
     },
     "execution_count": 3,
     "metadata": {},
     "output_type": "execute_result"
    }
   ],
   "source": [
    "df.head()"
   ]
  },
  {
   "cell_type": "code",
   "execution_count": 4,
   "id": "75859c8f",
   "metadata": {},
   "outputs": [
    {
     "data": {
      "text/html": [
       "<div>\n",
       "<style scoped>\n",
       "    .dataframe tbody tr th:only-of-type {\n",
       "        vertical-align: middle;\n",
       "    }\n",
       "\n",
       "    .dataframe tbody tr th {\n",
       "        vertical-align: top;\n",
       "    }\n",
       "\n",
       "    .dataframe thead th {\n",
       "        text-align: right;\n",
       "    }\n",
       "</style>\n",
       "<table border=\"1\" class=\"dataframe\">\n",
       "  <thead>\n",
       "    <tr style=\"text-align: right;\">\n",
       "      <th></th>\n",
       "      <th>name</th>\n",
       "      <th>age</th>\n",
       "      <th>income</th>\n",
       "      <th>gender</th>\n",
       "      <th>department</th>\n",
       "      <th>grade</th>\n",
       "      <th>performance_score</th>\n",
       "    </tr>\n",
       "  </thead>\n",
       "  <tbody>\n",
       "    <tr>\n",
       "      <th>4</th>\n",
       "      <td>Dheeraj Patel</td>\n",
       "      <td>30.0</td>\n",
       "      <td>42000.0</td>\n",
       "      <td>F</td>\n",
       "      <td>Operations</td>\n",
       "      <td>G2</td>\n",
       "      <td>711</td>\n",
       "    </tr>\n",
       "    <tr>\n",
       "      <th>5</th>\n",
       "      <td>Satyam Sharma</td>\n",
       "      <td>NaN</td>\n",
       "      <td>62000.0</td>\n",
       "      <td>NaN</td>\n",
       "      <td>Sales</td>\n",
       "      <td>G3</td>\n",
       "      <td>649</td>\n",
       "    </tr>\n",
       "    <tr>\n",
       "      <th>6</th>\n",
       "      <td>James Authur</td>\n",
       "      <td>54.0</td>\n",
       "      <td>NaN</td>\n",
       "      <td>F</td>\n",
       "      <td>Operations</td>\n",
       "      <td>G3</td>\n",
       "      <td>53</td>\n",
       "    </tr>\n",
       "    <tr>\n",
       "      <th>7</th>\n",
       "      <td>Josh Wills</td>\n",
       "      <td>54.0</td>\n",
       "      <td>52000.0</td>\n",
       "      <td>F</td>\n",
       "      <td>Finance</td>\n",
       "      <td>G3</td>\n",
       "      <td>901</td>\n",
       "    </tr>\n",
       "    <tr>\n",
       "      <th>8</th>\n",
       "      <td>Leo Duck</td>\n",
       "      <td>23.0</td>\n",
       "      <td>98000.0</td>\n",
       "      <td>M</td>\n",
       "      <td>Sales</td>\n",
       "      <td>G4</td>\n",
       "      <td>709</td>\n",
       "    </tr>\n",
       "  </tbody>\n",
       "</table>\n",
       "</div>"
      ],
      "text/plain": [
       "            name   age   income gender  department grade  performance_score\n",
       "4  Dheeraj Patel  30.0  42000.0      F  Operations    G2                711\n",
       "5  Satyam Sharma   NaN  62000.0    NaN       Sales    G3                649\n",
       "6   James Authur  54.0      NaN      F  Operations    G3                 53\n",
       "7     Josh Wills  54.0  52000.0      F     Finance    G3                901\n",
       "8       Leo Duck  23.0  98000.0      M       Sales    G4                709"
      ]
     },
     "execution_count": 4,
     "metadata": {},
     "output_type": "execute_result"
    }
   ],
   "source": [
    "df.tail()"
   ]
  },
  {
   "cell_type": "code",
   "execution_count": 5,
   "id": "cb5f87a5",
   "metadata": {},
   "outputs": [
    {
     "name": "stdout",
     "output_type": "stream",
     "text": [
      "<class 'pandas.core.frame.DataFrame'>\n",
      "RangeIndex: 9 entries, 0 to 8\n",
      "Data columns (total 7 columns):\n",
      " #   Column             Non-Null Count  Dtype  \n",
      "---  ------             --------------  -----  \n",
      " 0   name               9 non-null      object \n",
      " 1   age                7 non-null      float64\n",
      " 2   income             7 non-null      float64\n",
      " 3   gender             7 non-null      object \n",
      " 4   department         9 non-null      object \n",
      " 5   grade              9 non-null      object \n",
      " 6   performance_score  9 non-null      int64  \n",
      "dtypes: float64(2), int64(1), object(4)\n",
      "memory usage: 632.0+ bytes\n"
     ]
    }
   ],
   "source": [
    "df.info()"
   ]
  },
  {
   "cell_type": "code",
   "execution_count": 6,
   "id": "b3b788ae",
   "metadata": {},
   "outputs": [
    {
     "data": {
      "text/html": [
       "<div>\n",
       "<style scoped>\n",
       "    .dataframe tbody tr th:only-of-type {\n",
       "        vertical-align: middle;\n",
       "    }\n",
       "\n",
       "    .dataframe tbody tr th {\n",
       "        vertical-align: top;\n",
       "    }\n",
       "\n",
       "    .dataframe thead th {\n",
       "        text-align: right;\n",
       "    }\n",
       "</style>\n",
       "<table border=\"1\" class=\"dataframe\">\n",
       "  <thead>\n",
       "    <tr style=\"text-align: right;\">\n",
       "      <th></th>\n",
       "      <th>age</th>\n",
       "      <th>income</th>\n",
       "      <th>performance_score</th>\n",
       "    </tr>\n",
       "  </thead>\n",
       "  <tbody>\n",
       "    <tr>\n",
       "      <th>count</th>\n",
       "      <td>7.000000</td>\n",
       "      <td>7.000000</td>\n",
       "      <td>9.000000</td>\n",
       "    </tr>\n",
       "    <tr>\n",
       "      <th>mean</th>\n",
       "      <td>40.428571</td>\n",
       "      <td>52857.142857</td>\n",
       "      <td>610.666667</td>\n",
       "    </tr>\n",
       "    <tr>\n",
       "      <th>std</th>\n",
       "      <td>12.204605</td>\n",
       "      <td>26028.372797</td>\n",
       "      <td>235.671912</td>\n",
       "    </tr>\n",
       "    <tr>\n",
       "      <th>min</th>\n",
       "      <td>23.000000</td>\n",
       "      <td>16000.000000</td>\n",
       "      <td>53.000000</td>\n",
       "    </tr>\n",
       "    <tr>\n",
       "      <th>25%</th>\n",
       "      <td>31.000000</td>\n",
       "      <td>38500.000000</td>\n",
       "      <td>556.000000</td>\n",
       "    </tr>\n",
       "    <tr>\n",
       "      <th>50%</th>\n",
       "      <td>45.000000</td>\n",
       "      <td>52000.000000</td>\n",
       "      <td>674.000000</td>\n",
       "    </tr>\n",
       "    <tr>\n",
       "      <th>75%</th>\n",
       "      <td>49.500000</td>\n",
       "      <td>63500.000000</td>\n",
       "      <td>711.000000</td>\n",
       "    </tr>\n",
       "    <tr>\n",
       "      <th>max</th>\n",
       "      <td>54.000000</td>\n",
       "      <td>98000.000000</td>\n",
       "      <td>901.000000</td>\n",
       "    </tr>\n",
       "  </tbody>\n",
       "</table>\n",
       "</div>"
      ],
      "text/plain": [
       "             age        income  performance_score\n",
       "count   7.000000      7.000000           9.000000\n",
       "mean   40.428571  52857.142857         610.666667\n",
       "std    12.204605  26028.372797         235.671912\n",
       "min    23.000000  16000.000000          53.000000\n",
       "25%    31.000000  38500.000000         556.000000\n",
       "50%    45.000000  52000.000000         674.000000\n",
       "75%    49.500000  63500.000000         711.000000\n",
       "max    54.000000  98000.000000         901.000000"
      ]
     },
     "execution_count": 6,
     "metadata": {},
     "output_type": "execute_result"
    }
   ],
   "source": [
    "df.describe()"
   ]
  },
  {
   "cell_type": "code",
   "execution_count": 7,
   "id": "30284319",
   "metadata": {},
   "outputs": [
    {
     "data": {
      "text/plain": [
       "(9, 7)"
      ]
     },
     "execution_count": 7,
     "metadata": {},
     "output_type": "execute_result"
    }
   ],
   "source": [
    "df.shape"
   ]
  },
  {
   "cell_type": "code",
   "execution_count": 8,
   "id": "5f5eaae3",
   "metadata": {},
   "outputs": [
    {
     "data": {
      "text/plain": [
       "name                 0\n",
       "age                  2\n",
       "income               2\n",
       "gender               2\n",
       "department           0\n",
       "grade                0\n",
       "performance_score    0\n",
       "dtype: int64"
      ]
     },
     "execution_count": 8,
     "metadata": {},
     "output_type": "execute_result"
    }
   ],
   "source": [
    "df.isna().sum()"
   ]
  },
  {
   "cell_type": "markdown",
   "id": "ca2e1571",
   "metadata": {},
   "source": [
    "# 2. Reset the index as \"name\" as the index."
   ]
  },
  {
   "cell_type": "code",
   "execution_count": 9,
   "id": "78436fb8",
   "metadata": {},
   "outputs": [],
   "source": [
    "df = pd.read_csv(r'D:\\ICT kerala\\week10_preprocess\\employee.csv', index_col='name')"
   ]
  },
  {
   "cell_type": "code",
   "execution_count": 10,
   "id": "cfd7f87f",
   "metadata": {},
   "outputs": [
    {
     "data": {
      "text/html": [
       "<div>\n",
       "<style scoped>\n",
       "    .dataframe tbody tr th:only-of-type {\n",
       "        vertical-align: middle;\n",
       "    }\n",
       "\n",
       "    .dataframe tbody tr th {\n",
       "        vertical-align: top;\n",
       "    }\n",
       "\n",
       "    .dataframe thead th {\n",
       "        text-align: right;\n",
       "    }\n",
       "</style>\n",
       "<table border=\"1\" class=\"dataframe\">\n",
       "  <thead>\n",
       "    <tr style=\"text-align: right;\">\n",
       "      <th></th>\n",
       "      <th>age</th>\n",
       "      <th>income</th>\n",
       "      <th>gender</th>\n",
       "      <th>department</th>\n",
       "      <th>grade</th>\n",
       "      <th>performance_score</th>\n",
       "    </tr>\n",
       "    <tr>\n",
       "      <th>name</th>\n",
       "      <th></th>\n",
       "      <th></th>\n",
       "      <th></th>\n",
       "      <th></th>\n",
       "      <th></th>\n",
       "      <th></th>\n",
       "    </tr>\n",
       "  </thead>\n",
       "  <tbody>\n",
       "    <tr>\n",
       "      <th>Allen Smith</th>\n",
       "      <td>45.0</td>\n",
       "      <td>NaN</td>\n",
       "      <td>NaN</td>\n",
       "      <td>Operations</td>\n",
       "      <td>G3</td>\n",
       "      <td>723</td>\n",
       "    </tr>\n",
       "    <tr>\n",
       "      <th>S Kumar</th>\n",
       "      <td>NaN</td>\n",
       "      <td>16000.0</td>\n",
       "      <td>F</td>\n",
       "      <td>Finance</td>\n",
       "      <td>G0</td>\n",
       "      <td>520</td>\n",
       "    </tr>\n",
       "    <tr>\n",
       "      <th>Jack Morgan</th>\n",
       "      <td>32.0</td>\n",
       "      <td>35000.0</td>\n",
       "      <td>M</td>\n",
       "      <td>Finance</td>\n",
       "      <td>G2</td>\n",
       "      <td>674</td>\n",
       "    </tr>\n",
       "    <tr>\n",
       "      <th>Ying Chin</th>\n",
       "      <td>45.0</td>\n",
       "      <td>65000.0</td>\n",
       "      <td>F</td>\n",
       "      <td>Sales</td>\n",
       "      <td>G3</td>\n",
       "      <td>556</td>\n",
       "    </tr>\n",
       "    <tr>\n",
       "      <th>Dheeraj Patel</th>\n",
       "      <td>30.0</td>\n",
       "      <td>42000.0</td>\n",
       "      <td>F</td>\n",
       "      <td>Operations</td>\n",
       "      <td>G2</td>\n",
       "      <td>711</td>\n",
       "    </tr>\n",
       "  </tbody>\n",
       "</table>\n",
       "</div>"
      ],
      "text/plain": [
       "                age   income gender  department grade  performance_score\n",
       "name                                                                    \n",
       "Allen Smith    45.0      NaN    NaN  Operations    G3                723\n",
       "S Kumar         NaN  16000.0      F     Finance    G0                520\n",
       "Jack Morgan    32.0  35000.0      M     Finance    G2                674\n",
       "Ying Chin      45.0  65000.0      F       Sales    G3                556\n",
       "Dheeraj Patel  30.0  42000.0      F  Operations    G2                711"
      ]
     },
     "execution_count": 10,
     "metadata": {},
     "output_type": "execute_result"
    }
   ],
   "source": [
    "df.head()"
   ]
  },
  {
   "cell_type": "markdown",
   "id": "2e7ff10a",
   "metadata": {},
   "source": [
    "# 3. Select rows for specific names Jack Morgan and Josh wills."
   ]
  },
  {
   "cell_type": "code",
   "execution_count": 11,
   "id": "9dbc3e9b",
   "metadata": {},
   "outputs": [
    {
     "data": {
      "text/plain": [
       "age                     32.0\n",
       "income               35000.0\n",
       "gender                     M\n",
       "department           Finance\n",
       "grade                     G2\n",
       "performance_score        674\n",
       "Name: Jack Morgan, dtype: object"
      ]
     },
     "execution_count": 11,
     "metadata": {},
     "output_type": "execute_result"
    }
   ],
   "source": [
    "# selecting row for 'Jack Morgan'\n",
    "df.loc['Jack Morgan']"
   ]
  },
  {
   "cell_type": "code",
   "execution_count": 12,
   "id": "4107a058",
   "metadata": {},
   "outputs": [
    {
     "data": {
      "text/plain": [
       "age                     54.0\n",
       "income               52000.0\n",
       "gender                     F\n",
       "department           Finance\n",
       "grade                     G3\n",
       "performance_score        901\n",
       "Name: Josh Wills, dtype: object"
      ]
     },
     "execution_count": 12,
     "metadata": {},
     "output_type": "execute_result"
    }
   ],
   "source": [
    "# selecting row for 'Josh Wills'\n",
    "df.loc['Josh Wills']"
   ]
  },
  {
   "cell_type": "markdown",
   "id": "74c8feb1",
   "metadata": {},
   "source": [
    "# 4. Select data for multiple values \"Sales\" and “Finance”."
   ]
  },
  {
   "cell_type": "code",
   "execution_count": 13,
   "id": "759f7684",
   "metadata": {},
   "outputs": [
    {
     "data": {
      "text/html": [
       "<div>\n",
       "<style scoped>\n",
       "    .dataframe tbody tr th:only-of-type {\n",
       "        vertical-align: middle;\n",
       "    }\n",
       "\n",
       "    .dataframe tbody tr th {\n",
       "        vertical-align: top;\n",
       "    }\n",
       "\n",
       "    .dataframe thead th {\n",
       "        text-align: right;\n",
       "    }\n",
       "</style>\n",
       "<table border=\"1\" class=\"dataframe\">\n",
       "  <thead>\n",
       "    <tr style=\"text-align: right;\">\n",
       "      <th></th>\n",
       "      <th>age</th>\n",
       "      <th>income</th>\n",
       "      <th>gender</th>\n",
       "      <th>department</th>\n",
       "      <th>grade</th>\n",
       "      <th>performance_score</th>\n",
       "    </tr>\n",
       "    <tr>\n",
       "      <th>name</th>\n",
       "      <th></th>\n",
       "      <th></th>\n",
       "      <th></th>\n",
       "      <th></th>\n",
       "      <th></th>\n",
       "      <th></th>\n",
       "    </tr>\n",
       "  </thead>\n",
       "  <tbody>\n",
       "    <tr>\n",
       "      <th>S Kumar</th>\n",
       "      <td>NaN</td>\n",
       "      <td>16000.0</td>\n",
       "      <td>F</td>\n",
       "      <td>Finance</td>\n",
       "      <td>G0</td>\n",
       "      <td>520</td>\n",
       "    </tr>\n",
       "    <tr>\n",
       "      <th>Jack Morgan</th>\n",
       "      <td>32.0</td>\n",
       "      <td>35000.0</td>\n",
       "      <td>M</td>\n",
       "      <td>Finance</td>\n",
       "      <td>G2</td>\n",
       "      <td>674</td>\n",
       "    </tr>\n",
       "    <tr>\n",
       "      <th>Ying Chin</th>\n",
       "      <td>45.0</td>\n",
       "      <td>65000.0</td>\n",
       "      <td>F</td>\n",
       "      <td>Sales</td>\n",
       "      <td>G3</td>\n",
       "      <td>556</td>\n",
       "    </tr>\n",
       "    <tr>\n",
       "      <th>Satyam Sharma</th>\n",
       "      <td>NaN</td>\n",
       "      <td>62000.0</td>\n",
       "      <td>NaN</td>\n",
       "      <td>Sales</td>\n",
       "      <td>G3</td>\n",
       "      <td>649</td>\n",
       "    </tr>\n",
       "    <tr>\n",
       "      <th>Josh Wills</th>\n",
       "      <td>54.0</td>\n",
       "      <td>52000.0</td>\n",
       "      <td>F</td>\n",
       "      <td>Finance</td>\n",
       "      <td>G3</td>\n",
       "      <td>901</td>\n",
       "    </tr>\n",
       "    <tr>\n",
       "      <th>Leo Duck</th>\n",
       "      <td>23.0</td>\n",
       "      <td>98000.0</td>\n",
       "      <td>M</td>\n",
       "      <td>Sales</td>\n",
       "      <td>G4</td>\n",
       "      <td>709</td>\n",
       "    </tr>\n",
       "  </tbody>\n",
       "</table>\n",
       "</div>"
      ],
      "text/plain": [
       "                age   income gender department grade  performance_score\n",
       "name                                                                   \n",
       "S Kumar         NaN  16000.0      F    Finance    G0                520\n",
       "Jack Morgan    32.0  35000.0      M    Finance    G2                674\n",
       "Ying Chin      45.0  65000.0      F      Sales    G3                556\n",
       "Satyam Sharma   NaN  62000.0    NaN      Sales    G3                649\n",
       "Josh Wills     54.0  52000.0      F    Finance    G3                901\n",
       "Leo Duck       23.0  98000.0      M      Sales    G4                709"
      ]
     },
     "execution_count": 13,
     "metadata": {},
     "output_type": "execute_result"
    }
   ],
   "source": [
    "df[df['department'].isin(['Sales','Finance'])]"
   ]
  },
  {
   "cell_type": "markdown",
   "id": "a4237da7",
   "metadata": {},
   "source": [
    "# 5. Display employee who has more than 700 performance score"
   ]
  },
  {
   "cell_type": "code",
   "execution_count": 14,
   "id": "0ad03e69",
   "metadata": {},
   "outputs": [
    {
     "data": {
      "text/html": [
       "<div>\n",
       "<style scoped>\n",
       "    .dataframe tbody tr th:only-of-type {\n",
       "        vertical-align: middle;\n",
       "    }\n",
       "\n",
       "    .dataframe tbody tr th {\n",
       "        vertical-align: top;\n",
       "    }\n",
       "\n",
       "    .dataframe thead th {\n",
       "        text-align: right;\n",
       "    }\n",
       "</style>\n",
       "<table border=\"1\" class=\"dataframe\">\n",
       "  <thead>\n",
       "    <tr style=\"text-align: right;\">\n",
       "      <th></th>\n",
       "      <th>age</th>\n",
       "      <th>income</th>\n",
       "      <th>gender</th>\n",
       "      <th>department</th>\n",
       "      <th>grade</th>\n",
       "      <th>performance_score</th>\n",
       "    </tr>\n",
       "    <tr>\n",
       "      <th>name</th>\n",
       "      <th></th>\n",
       "      <th></th>\n",
       "      <th></th>\n",
       "      <th></th>\n",
       "      <th></th>\n",
       "      <th></th>\n",
       "    </tr>\n",
       "  </thead>\n",
       "  <tbody>\n",
       "    <tr>\n",
       "      <th>Allen Smith</th>\n",
       "      <td>45.0</td>\n",
       "      <td>NaN</td>\n",
       "      <td>NaN</td>\n",
       "      <td>Operations</td>\n",
       "      <td>G3</td>\n",
       "      <td>723</td>\n",
       "    </tr>\n",
       "    <tr>\n",
       "      <th>Dheeraj Patel</th>\n",
       "      <td>30.0</td>\n",
       "      <td>42000.0</td>\n",
       "      <td>F</td>\n",
       "      <td>Operations</td>\n",
       "      <td>G2</td>\n",
       "      <td>711</td>\n",
       "    </tr>\n",
       "    <tr>\n",
       "      <th>Josh Wills</th>\n",
       "      <td>54.0</td>\n",
       "      <td>52000.0</td>\n",
       "      <td>F</td>\n",
       "      <td>Finance</td>\n",
       "      <td>G3</td>\n",
       "      <td>901</td>\n",
       "    </tr>\n",
       "    <tr>\n",
       "      <th>Leo Duck</th>\n",
       "      <td>23.0</td>\n",
       "      <td>98000.0</td>\n",
       "      <td>M</td>\n",
       "      <td>Sales</td>\n",
       "      <td>G4</td>\n",
       "      <td>709</td>\n",
       "    </tr>\n",
       "  </tbody>\n",
       "</table>\n",
       "</div>"
      ],
      "text/plain": [
       "                age   income gender  department grade  performance_score\n",
       "name                                                                    \n",
       "Allen Smith    45.0      NaN    NaN  Operations    G3                723\n",
       "Dheeraj Patel  30.0  42000.0      F  Operations    G2                711\n",
       "Josh Wills     54.0  52000.0      F     Finance    G3                901\n",
       "Leo Duck       23.0  98000.0      M       Sales    G4                709"
      ]
     },
     "execution_count": 14,
     "metadata": {},
     "output_type": "execute_result"
    }
   ],
   "source": [
    "df[df['performance_score']>700]"
   ]
  },
  {
   "cell_type": "markdown",
   "id": "25d3f4ad",
   "metadata": {},
   "source": [
    "# 6. Display employee who has more than 500 and less than 700 performance score"
   ]
  },
  {
   "cell_type": "code",
   "execution_count": 15,
   "id": "2134612f",
   "metadata": {},
   "outputs": [
    {
     "data": {
      "text/html": [
       "<div>\n",
       "<style scoped>\n",
       "    .dataframe tbody tr th:only-of-type {\n",
       "        vertical-align: middle;\n",
       "    }\n",
       "\n",
       "    .dataframe tbody tr th {\n",
       "        vertical-align: top;\n",
       "    }\n",
       "\n",
       "    .dataframe thead th {\n",
       "        text-align: right;\n",
       "    }\n",
       "</style>\n",
       "<table border=\"1\" class=\"dataframe\">\n",
       "  <thead>\n",
       "    <tr style=\"text-align: right;\">\n",
       "      <th></th>\n",
       "      <th>age</th>\n",
       "      <th>income</th>\n",
       "      <th>gender</th>\n",
       "      <th>department</th>\n",
       "      <th>grade</th>\n",
       "      <th>performance_score</th>\n",
       "    </tr>\n",
       "    <tr>\n",
       "      <th>name</th>\n",
       "      <th></th>\n",
       "      <th></th>\n",
       "      <th></th>\n",
       "      <th></th>\n",
       "      <th></th>\n",
       "      <th></th>\n",
       "    </tr>\n",
       "  </thead>\n",
       "  <tbody>\n",
       "    <tr>\n",
       "      <th>S Kumar</th>\n",
       "      <td>NaN</td>\n",
       "      <td>16000.0</td>\n",
       "      <td>F</td>\n",
       "      <td>Finance</td>\n",
       "      <td>G0</td>\n",
       "      <td>520</td>\n",
       "    </tr>\n",
       "    <tr>\n",
       "      <th>Jack Morgan</th>\n",
       "      <td>32.0</td>\n",
       "      <td>35000.0</td>\n",
       "      <td>M</td>\n",
       "      <td>Finance</td>\n",
       "      <td>G2</td>\n",
       "      <td>674</td>\n",
       "    </tr>\n",
       "    <tr>\n",
       "      <th>Ying Chin</th>\n",
       "      <td>45.0</td>\n",
       "      <td>65000.0</td>\n",
       "      <td>F</td>\n",
       "      <td>Sales</td>\n",
       "      <td>G3</td>\n",
       "      <td>556</td>\n",
       "    </tr>\n",
       "    <tr>\n",
       "      <th>Satyam Sharma</th>\n",
       "      <td>NaN</td>\n",
       "      <td>62000.0</td>\n",
       "      <td>NaN</td>\n",
       "      <td>Sales</td>\n",
       "      <td>G3</td>\n",
       "      <td>649</td>\n",
       "    </tr>\n",
       "  </tbody>\n",
       "</table>\n",
       "</div>"
      ],
      "text/plain": [
       "                age   income gender department grade  performance_score\n",
       "name                                                                   \n",
       "S Kumar         NaN  16000.0      F    Finance    G0                520\n",
       "Jack Morgan    32.0  35000.0      M    Finance    G2                674\n",
       "Ying Chin      45.0  65000.0      F      Sales    G3                556\n",
       "Satyam Sharma   NaN  62000.0    NaN      Sales    G3                649"
      ]
     },
     "execution_count": 15,
     "metadata": {},
     "output_type": "execute_result"
    }
   ],
   "source": [
    "df[(df['performance_score']>500) & (df['performance_score']<700)]"
   ]
  },
  {
   "cell_type": "markdown",
   "id": "c3c08ac7",
   "metadata": {},
   "source": [
    "# 7. Check and handle missing values in the dataset."
   ]
  },
  {
   "cell_type": "code",
   "execution_count": 16,
   "id": "e2948741",
   "metadata": {},
   "outputs": [
    {
     "data": {
      "text/plain": [
       "age                  2\n",
       "income               2\n",
       "gender               2\n",
       "department           0\n",
       "grade                0\n",
       "performance_score    0\n",
       "dtype: int64"
      ]
     },
     "execution_count": 16,
     "metadata": {},
     "output_type": "execute_result"
    }
   ],
   "source": [
    "df.isna().sum()"
   ]
  },
  {
   "cell_type": "code",
   "execution_count": 17,
   "id": "f879f762",
   "metadata": {},
   "outputs": [
    {
     "data": {
      "text/plain": [
       "name\n",
       "Allen Smith      2\n",
       "S Kumar          1\n",
       "Jack Morgan      0\n",
       "Ying Chin        0\n",
       "Dheeraj Patel    0\n",
       "Satyam Sharma    2\n",
       "James Authur     1\n",
       "Josh Wills       0\n",
       "Leo Duck         0\n",
       "dtype: int64"
      ]
     },
     "execution_count": 17,
     "metadata": {},
     "output_type": "execute_result"
    }
   ],
   "source": [
    "df.isna().sum(axis=1)"
   ]
  },
  {
   "cell_type": "markdown",
   "id": "bda6c000",
   "metadata": {},
   "source": [
    "Since the data is very small in size,we can't drop the missing values. Instead we can impute using measures of central tendancy. "
   ]
  },
  {
   "cell_type": "markdown",
   "id": "827a4df8",
   "metadata": {},
   "source": [
    "3 colums have missing values: 'age' and 'income' being the numerical variables and 'gender' being the categorical variable. We can use mode to fill in the missing values of the 'gender' column."
   ]
  },
  {
   "cell_type": "code",
   "execution_count": 18,
   "id": "4b32b188",
   "metadata": {},
   "outputs": [
    {
     "data": {
      "text/plain": [
       "0    F\n",
       "dtype: object"
      ]
     },
     "execution_count": 18,
     "metadata": {},
     "output_type": "execute_result"
    }
   ],
   "source": [
    "df['gender'].mode()"
   ]
  },
  {
   "cell_type": "code",
   "execution_count": 19,
   "id": "53e2b5cd",
   "metadata": {},
   "outputs": [],
   "source": [
    "df['gender'].fillna(df['gender'].mode, inplace=True)"
   ]
  },
  {
   "cell_type": "code",
   "execution_count": 20,
   "id": "8a3385b0",
   "metadata": {},
   "outputs": [
    {
     "data": {
      "text/plain": [
       "0"
      ]
     },
     "execution_count": 20,
     "metadata": {},
     "output_type": "execute_result"
    }
   ],
   "source": [
    "df['gender'].isna().sum()"
   ]
  },
  {
   "cell_type": "markdown",
   "id": "6987d350",
   "metadata": {},
   "source": [
    "To fill in the numerical variables, we have to consider their skewness."
   ]
  },
  {
   "cell_type": "code",
   "execution_count": 21,
   "id": "8e9727b9",
   "metadata": {},
   "outputs": [
    {
     "data": {
      "text/plain": [
       "<AxesSubplot:xlabel='age', ylabel='Density'>"
      ]
     },
     "execution_count": 21,
     "metadata": {},
     "output_type": "execute_result"
    },
    {
     "data": {
      "image/png": "[encoded data removed]",
      "text/plain": [
       "<Figure size 432x288 with 1 Axes>"
      ]
     },
     "metadata": {
      "needs_background": "light"
     },
     "output_type": "display_data"
    }
   ],
   "source": [
    "sns.distplot(df['age'])"
   ]
  },
  {
   "cell_type": "code",
   "execution_count": 22,
   "id": "2baccc50",
   "metadata": {},
   "outputs": [
    {
     "data": {
      "text/plain": [
       "<AxesSubplot:xlabel='age'>"
      ]
     },
     "execution_count": 22,
     "metadata": {},
     "output_type": "execute_result"
    },
    {
     "data": {
      "image/png": "[encoded data removed]",
      "text/plain": [
       "<Figure size 432x288 with 1 Axes>"
      ]
     },
     "metadata": {
      "needs_background": "light"
     },
     "output_type": "display_data"
    }
   ],
   "source": [
    "sns.boxplot(df['age'])"
   ]
  },
  {
   "cell_type": "markdown",
   "id": "b3551414",
   "metadata": {},
   "source": [
    "For 'age' the data is not skewed and has no outliers. We can use the median value for filling in the missing value here."
   ]
  },
  {
   "cell_type": "code",
   "execution_count": 23,
   "id": "af3f314d",
   "metadata": {},
   "outputs": [],
   "source": [
    "df['age'].fillna(value=df['age'].median(), axis=0, inplace=True)"
   ]
  },
  {
   "cell_type": "code",
   "execution_count": 24,
   "id": "5cf0ae46",
   "metadata": {},
   "outputs": [
    {
     "data": {
      "text/plain": [
       "name\n",
       "Allen Smith      45.0\n",
       "S Kumar          45.0\n",
       "Jack Morgan      32.0\n",
       "Ying Chin        45.0\n",
       "Dheeraj Patel    30.0\n",
       "Satyam Sharma    45.0\n",
       "James Authur     54.0\n",
       "Josh Wills       54.0\n",
       "Leo Duck         23.0\n",
       "Name: age, dtype: float64"
      ]
     },
     "execution_count": 24,
     "metadata": {},
     "output_type": "execute_result"
    }
   ],
   "source": [
    "df['age']"
   ]
  },
  {
   "cell_type": "code",
   "execution_count": 25,
   "id": "69247d38",
   "metadata": {},
   "outputs": [
    {
     "data": {
      "text/plain": [
       "<AxesSubplot:xlabel='income', ylabel='Density'>"
      ]
     },
     "execution_count": 25,
     "metadata": {},
     "output_type": "execute_result"
    },
    {
     "data": {
      "image/png": "[encoded data removed]",
      "text/plain": [
       "<Figure size 432x288 with 1 Axes>"
      ]
     },
     "metadata": {
      "needs_background": "light"
     },
     "output_type": "display_data"
    }
   ],
   "source": [
    "sns.distplot(df['income'])"
   ]
  },
  {
   "cell_type": "code",
   "execution_count": 26,
   "id": "6276b3d7",
   "metadata": {},
   "outputs": [
    {
     "data": {
      "text/plain": [
       "<AxesSubplot:xlabel='income'>"
      ]
     },
     "execution_count": 26,
     "metadata": {},
     "output_type": "execute_result"
    },
    {
     "data": {
      "image/png": "[encoded data removed]",
      "text/plain": [
       "<Figure size 432x288 with 1 Axes>"
      ]
     },
     "metadata": {
      "needs_background": "light"
     },
     "output_type": "display_data"
    }
   ],
   "source": [
    "sns.boxplot(df['income'])"
   ]
  },
  {
   "cell_type": "markdown",
   "id": "edb3ab6a",
   "metadata": {},
   "source": [
    "For 'income' variable also the data is not skewed and has no outliers so we can use the median value here for imputation"
   ]
  },
  {
   "cell_type": "code",
   "execution_count": 27,
   "id": "76da4aeb",
   "metadata": {},
   "outputs": [],
   "source": [
    "df['income'].fillna(value=df['income'].median(), axis=0, inplace=True)"
   ]
  },
  {
   "cell_type": "code",
   "execution_count": 28,
   "id": "b34a2ada",
   "metadata": {},
   "outputs": [
    {
     "data": {
      "text/plain": [
       "name\n",
       "Allen Smith      52000.0\n",
       "S Kumar          16000.0\n",
       "Jack Morgan      35000.0\n",
       "Ying Chin        65000.0\n",
       "Dheeraj Patel    42000.0\n",
       "Satyam Sharma    62000.0\n",
       "James Authur     52000.0\n",
       "Josh Wills       52000.0\n",
       "Leo Duck         98000.0\n",
       "Name: income, dtype: float64"
      ]
     },
     "execution_count": 28,
     "metadata": {},
     "output_type": "execute_result"
    }
   ],
   "source": [
    "df['income']"
   ]
  },
  {
   "cell_type": "code",
   "execution_count": 29,
   "id": "5e9878b7",
   "metadata": {},
   "outputs": [
    {
     "data": {
      "text/plain": [
       "age                  0\n",
       "income               0\n",
       "gender               0\n",
       "department           0\n",
       "grade                0\n",
       "performance_score    0\n",
       "dtype: int64"
      ]
     },
     "execution_count": 29,
     "metadata": {},
     "output_type": "execute_result"
    }
   ],
   "source": [
    "df.isna().sum()"
   ]
  },
  {
   "cell_type": "markdown",
   "id": "66ddb254",
   "metadata": {},
   "source": [
    "There are no missing values in the data now."
   ]
  },
  {
   "cell_type": "markdown",
   "id": "cd728416",
   "metadata": {},
   "source": [
    "# 8. Check the outliers and handle outliers in performance score using Percentiles"
   ]
  },
  {
   "cell_type": "code",
   "execution_count": 30,
   "id": "3421e733",
   "metadata": {},
   "outputs": [],
   "source": [
    "num_vars = df.select_dtypes(include=['int64','float'])"
   ]
  },
  {
   "cell_type": "code",
   "execution_count": 31,
   "id": "d076d5e1",
   "metadata": {},
   "outputs": [
    {
     "data": {
      "image/png": "[encoded data removed]",
      "text/plain": [
       "<Figure size 432x288 with 1 Axes>"
      ]
     },
     "metadata": {
      "needs_background": "light"
     },
     "output_type": "display_data"
    },
    {
     "data": {
      "image/png": "[encoded data removed]",
      "text/plain": [
       "<Figure size 432x288 with 1 Axes>"
      ]
     },
     "metadata": {
      "needs_background": "light"
     },
     "output_type": "display_data"
    },
    {
     "data": {
      "image/png": "[encoded data removed]",
      "text/plain": [
       "<Figure size 432x288 with 1 Axes>"
      ]
     },
     "metadata": {
      "needs_background": "light"
     },
     "output_type": "display_data"
    }
   ],
   "source": [
    "for x in num_vars:\n",
    "    sns.boxplot(df[x])\n",
    "    plt.show()"
   ]
  },
  {
   "cell_type": "markdown",
   "id": "114beb4a",
   "metadata": {},
   "source": [
    "Both 'income' and 'performance score' variables are having outliers."
   ]
  },
  {
   "cell_type": "markdown",
   "id": "7ab91ba0",
   "metadata": {},
   "source": [
    "We can use percentiles for handling the outliers. We can replace the the values > 90th percentile with the 90th percentile and the values < 10th percentile with the 10th percentile."
   ]
  },
  {
   "cell_type": "code",
   "execution_count": 32,
   "id": "faf089b1",
   "metadata": {},
   "outputs": [
    {
     "data": {
      "text/html": [
       "<div>\n",
       "<style scoped>\n",
       "    .dataframe tbody tr th:only-of-type {\n",
       "        vertical-align: middle;\n",
       "    }\n",
       "\n",
       "    .dataframe tbody tr th {\n",
       "        vertical-align: top;\n",
       "    }\n",
       "\n",
       "    .dataframe thead th {\n",
       "        text-align: right;\n",
       "    }\n",
       "</style>\n",
       "<table border=\"1\" class=\"dataframe\">\n",
       "  <thead>\n",
       "    <tr style=\"text-align: right;\">\n",
       "      <th></th>\n",
       "      <th>age</th>\n",
       "      <th>income</th>\n",
       "      <th>gender</th>\n",
       "      <th>department</th>\n",
       "      <th>grade</th>\n",
       "      <th>performance_score</th>\n",
       "    </tr>\n",
       "    <tr>\n",
       "      <th>name</th>\n",
       "      <th></th>\n",
       "      <th></th>\n",
       "      <th></th>\n",
       "      <th></th>\n",
       "      <th></th>\n",
       "      <th></th>\n",
       "    </tr>\n",
       "  </thead>\n",
       "  <tbody>\n",
       "    <tr>\n",
       "      <th>Leo Duck</th>\n",
       "      <td>23.0</td>\n",
       "      <td>98000.0</td>\n",
       "      <td>M</td>\n",
       "      <td>Sales</td>\n",
       "      <td>G4</td>\n",
       "      <td>709</td>\n",
       "    </tr>\n",
       "  </tbody>\n",
       "</table>\n",
       "</div>"
      ],
      "text/plain": [
       "           age   income gender department grade  performance_score\n",
       "name                                                              \n",
       "Leo Duck  23.0  98000.0      M      Sales    G4                709"
      ]
     },
     "execution_count": 32,
     "metadata": {},
     "output_type": "execute_result"
    }
   ],
   "source": [
    "# To find outthe outlier vaue we use the quartiles\n",
    "q1_inc = np.percentile(df['income'], 25)\n",
    "q3_inc = np.percentile(df['income'], 75)\n",
    "iqr_inc = q3_inc - q1_inc\n",
    "uplim_inc = q3_inc + (1.5*iqr_inc)\n",
    "out_inc = df[df['income']>uplim_inc]\n",
    "out_inc"
   ]
  },
  {
   "cell_type": "code",
   "execution_count": 33,
   "id": "930608e2",
   "metadata": {},
   "outputs": [],
   "source": [
    "p90_inc = np.percentile(df['income'], 90)\n",
    "df['income'].replace(98000, p90_inc, inplace=True)"
   ]
  },
  {
   "cell_type": "code",
   "execution_count": 34,
   "id": "12c70470",
   "metadata": {},
   "outputs": [
    {
     "data": {
      "text/plain": [
       "<AxesSubplot:xlabel='income'>"
      ]
     },
     "execution_count": 34,
     "metadata": {},
     "output_type": "execute_result"
    },
    {
     "data": {
      "image/png": "[encoded data removed]",
      "text/plain": [
       "<Figure size 432x288 with 1 Axes>"
      ]
     },
     "metadata": {
      "needs_background": "light"
     },
     "output_type": "display_data"
    }
   ],
   "source": [
    "sns.boxplot(df['income'])"
   ]
  },
  {
   "cell_type": "code",
   "execution_count": 35,
   "id": "935e4e35",
   "metadata": {},
   "outputs": [
    {
     "data": {
      "text/html": [
       "<div>\n",
       "<style scoped>\n",
       "    .dataframe tbody tr th:only-of-type {\n",
       "        vertical-align: middle;\n",
       "    }\n",
       "\n",
       "    .dataframe tbody tr th {\n",
       "        vertical-align: top;\n",
       "    }\n",
       "\n",
       "    .dataframe thead th {\n",
       "        text-align: right;\n",
       "    }\n",
       "</style>\n",
       "<table border=\"1\" class=\"dataframe\">\n",
       "  <thead>\n",
       "    <tr style=\"text-align: right;\">\n",
       "      <th></th>\n",
       "      <th>age</th>\n",
       "      <th>income</th>\n",
       "      <th>gender</th>\n",
       "      <th>department</th>\n",
       "      <th>grade</th>\n",
       "      <th>performance_score</th>\n",
       "    </tr>\n",
       "    <tr>\n",
       "      <th>name</th>\n",
       "      <th></th>\n",
       "      <th></th>\n",
       "      <th></th>\n",
       "      <th></th>\n",
       "      <th></th>\n",
       "      <th></th>\n",
       "    </tr>\n",
       "  </thead>\n",
       "  <tbody>\n",
       "    <tr>\n",
       "      <th>James Authur</th>\n",
       "      <td>54.0</td>\n",
       "      <td>52000.0</td>\n",
       "      <td>F</td>\n",
       "      <td>Operations</td>\n",
       "      <td>G3</td>\n",
       "      <td>53</td>\n",
       "    </tr>\n",
       "  </tbody>\n",
       "</table>\n",
       "</div>"
      ],
      "text/plain": [
       "               age   income gender  department grade  performance_score\n",
       "name                                                                   \n",
       "James Authur  54.0  52000.0      F  Operations    G3                 53"
      ]
     },
     "execution_count": 35,
     "metadata": {},
     "output_type": "execute_result"
    }
   ],
   "source": [
    "q1_p = np.percentile(df['performance_score'], 25)\n",
    "q3_p = np.percentile(df['performance_score'], 75)\n",
    "iqr_p = q3_p - q1_p\n",
    "lowlim_p = q1_p - (1.5*iqr_p)\n",
    "out_p = df[df['performance_score']<lowlim_p]\n",
    "out_p"
   ]
  },
  {
   "cell_type": "code",
   "execution_count": 36,
   "id": "4e49a3ad",
   "metadata": {},
   "outputs": [],
   "source": [
    "p10_p = np.percentile(df['performance_score'], 10)\n",
    "df['performance_score'].replace(53, p10_p, inplace=True)"
   ]
  },
  {
   "cell_type": "code",
   "execution_count": 37,
   "id": "5662c605",
   "metadata": {},
   "outputs": [
    {
     "data": {
      "text/plain": [
       "<AxesSubplot:xlabel='performance_score'>"
      ]
     },
     "execution_count": 37,
     "metadata": {},
     "output_type": "execute_result"
    },
    {
     "data": {
      "image/png": "[encoded data removed]",
      "text/plain": [
       "<Figure size 432x288 with 1 Axes>"
      ]
     },
     "metadata": {
      "needs_background": "light"
     },
     "output_type": "display_data"
    }
   ],
   "source": [
    "sns.boxplot(df['performance_score'])"
   ]
  },
  {
   "cell_type": "markdown",
   "id": "1c8e4387",
   "metadata": {},
   "source": [
    "# 9. Check the gender column and do Dummy encoding."
   ]
  },
  {
   "cell_type": "code",
   "execution_count": 38,
   "id": "539e1c9c",
   "metadata": {},
   "outputs": [],
   "source": [
    "df['gender'] = pd.get_dummies(df['gender'], drop_first=True)"
   ]
  },
  {
   "cell_type": "code",
   "execution_count": 39,
   "id": "385fd8ad",
   "metadata": {},
   "outputs": [
    {
     "data": {
      "text/plain": [
       "name\n",
       "Allen Smith      0\n",
       "S Kumar          1\n",
       "Jack Morgan      0\n",
       "Ying Chin        1\n",
       "Dheeraj Patel    1\n",
       "Satyam Sharma    0\n",
       "James Authur     1\n",
       "Josh Wills       1\n",
       "Leo Duck         0\n",
       "Name: gender, dtype: uint8"
      ]
     },
     "execution_count": 39,
     "metadata": {},
     "output_type": "execute_result"
    }
   ],
   "source": [
    "df['gender']"
   ]
  },
  {
   "cell_type": "markdown",
   "id": "3538a3bc",
   "metadata": {},
   "source": [
    "# 10. Do the standard scaling on the feature performance score"
   ]
  },
  {
   "cell_type": "markdown",
   "id": "a9136801",
   "metadata": {},
   "source": [
    "We have to apply encoding on 'department' and 'grade' variables, since they are categorical."
   ]
  },
  {
   "cell_type": "markdown",
   "id": "619930e0",
   "metadata": {},
   "source": [
    "## Label encoding on 'grade'"
   ]
  },
  {
   "cell_type": "code",
   "execution_count": 40,
   "id": "17aa2460",
   "metadata": {},
   "outputs": [],
   "source": [
    "from sklearn.preprocessing import LabelEncoder"
   ]
  },
  {
   "cell_type": "code",
   "execution_count": 41,
   "id": "09b0453b",
   "metadata": {},
   "outputs": [],
   "source": [
    "le = LabelEncoder()"
   ]
  },
  {
   "cell_type": "code",
   "execution_count": 42,
   "id": "dfaddaf8",
   "metadata": {},
   "outputs": [],
   "source": [
    "df['grade'] = le.fit_transform(df['grade'])"
   ]
  },
  {
   "cell_type": "markdown",
   "id": "0b8167cf",
   "metadata": {},
   "source": [
    "## One Hot Encoding on 'department'"
   ]
  },
  {
   "cell_type": "code",
   "execution_count": 43,
   "id": "0c7cc3fe",
   "metadata": {},
   "outputs": [],
   "source": [
    "df = pd.get_dummies(df, columns=['department'], drop_first=True)"
   ]
  },
  {
   "cell_type": "code",
   "execution_count": 44,
   "id": "39a97b4d",
   "metadata": {},
   "outputs": [
    {
     "data": {
      "text/html": [
       "<div>\n",
       "<style scoped>\n",
       "    .dataframe tbody tr th:only-of-type {\n",
       "        vertical-align: middle;\n",
       "    }\n",
       "\n",
       "    .dataframe tbody tr th {\n",
       "        vertical-align: top;\n",
       "    }\n",
       "\n",
       "    .dataframe thead th {\n",
       "        text-align: right;\n",
       "    }\n",
       "</style>\n",
       "<table border=\"1\" class=\"dataframe\">\n",
       "  <thead>\n",
       "    <tr style=\"text-align: right;\">\n",
       "      <th></th>\n",
       "      <th>age</th>\n",
       "      <th>income</th>\n",
       "      <th>gender</th>\n",
       "      <th>grade</th>\n",
       "      <th>performance_score</th>\n",
       "      <th>department_Operations</th>\n",
       "      <th>department_Sales</th>\n",
       "    </tr>\n",
       "    <tr>\n",
       "      <th>name</th>\n",
       "      <th></th>\n",
       "      <th></th>\n",
       "      <th></th>\n",
       "      <th></th>\n",
       "      <th></th>\n",
       "      <th></th>\n",
       "      <th></th>\n",
       "    </tr>\n",
       "  </thead>\n",
       "  <tbody>\n",
       "    <tr>\n",
       "      <th>Allen Smith</th>\n",
       "      <td>45.0</td>\n",
       "      <td>52000.0</td>\n",
       "      <td>0</td>\n",
       "      <td>2</td>\n",
       "      <td>723.0</td>\n",
       "      <td>1</td>\n",
       "      <td>0</td>\n",
       "    </tr>\n",
       "    <tr>\n",
       "      <th>S Kumar</th>\n",
       "      <td>45.0</td>\n",
       "      <td>16000.0</td>\n",
       "      <td>1</td>\n",
       "      <td>0</td>\n",
       "      <td>520.0</td>\n",
       "      <td>0</td>\n",
       "      <td>0</td>\n",
       "    </tr>\n",
       "    <tr>\n",
       "      <th>Jack Morgan</th>\n",
       "      <td>32.0</td>\n",
       "      <td>35000.0</td>\n",
       "      <td>0</td>\n",
       "      <td>1</td>\n",
       "      <td>674.0</td>\n",
       "      <td>0</td>\n",
       "      <td>0</td>\n",
       "    </tr>\n",
       "    <tr>\n",
       "      <th>Ying Chin</th>\n",
       "      <td>45.0</td>\n",
       "      <td>65000.0</td>\n",
       "      <td>1</td>\n",
       "      <td>2</td>\n",
       "      <td>556.0</td>\n",
       "      <td>0</td>\n",
       "      <td>1</td>\n",
       "    </tr>\n",
       "    <tr>\n",
       "      <th>Dheeraj Patel</th>\n",
       "      <td>30.0</td>\n",
       "      <td>42000.0</td>\n",
       "      <td>1</td>\n",
       "      <td>1</td>\n",
       "      <td>711.0</td>\n",
       "      <td>1</td>\n",
       "      <td>0</td>\n",
       "    </tr>\n",
       "  </tbody>\n",
       "</table>\n",
       "</div>"
      ],
      "text/plain": [
       "                age   income  gender  grade  performance_score  \\\n",
       "name                                                             \n",
       "Allen Smith    45.0  52000.0       0      2              723.0   \n",
       "S Kumar        45.0  16000.0       1      0              520.0   \n",
       "Jack Morgan    32.0  35000.0       0      1              674.0   \n",
       "Ying Chin      45.0  65000.0       1      2              556.0   \n",
       "Dheeraj Patel  30.0  42000.0       1      1              711.0   \n",
       "\n",
       "               department_Operations  department_Sales  \n",
       "name                                                    \n",
       "Allen Smith                        1                 0  \n",
       "S Kumar                            0                 0  \n",
       "Jack Morgan                        0                 0  \n",
       "Ying Chin                          0                 1  \n",
       "Dheeraj Patel                      1                 0  "
      ]
     },
     "execution_count": 44,
     "metadata": {},
     "output_type": "execute_result"
    }
   ],
   "source": [
    "df.head()"
   ]
  },
  {
   "cell_type": "markdown",
   "id": "4cf0982e",
   "metadata": {},
   "source": [
    "All the variables are now converted into numerical form.\n",
    "\n",
    "Now we can build a model."
   ]
  },
  {
   "cell_type": "markdown",
   "id": "213fb58c",
   "metadata": {},
   "source": [
    "## Building model"
   ]
  },
  {
   "cell_type": "code",
   "execution_count": 45,
   "id": "ce6f96d8",
   "metadata": {},
   "outputs": [],
   "source": [
    "x = df.drop(['performance_score'], axis=1)"
   ]
  },
  {
   "cell_type": "code",
   "execution_count": 46,
   "id": "bc5ce34f",
   "metadata": {},
   "outputs": [],
   "source": [
    "y = df['performance_score']"
   ]
  },
  {
   "cell_type": "markdown",
   "id": "2e30041f",
   "metadata": {},
   "source": [
    "Splitting the data into test and train datasets"
   ]
  },
  {
   "cell_type": "code",
   "execution_count": 47,
   "id": "1a98a37d",
   "metadata": {},
   "outputs": [],
   "source": [
    "from sklearn.model_selection import train_test_split"
   ]
  },
  {
   "cell_type": "code",
   "execution_count": 48,
   "id": "64a507cb",
   "metadata": {},
   "outputs": [],
   "source": [
    "x_train, x_test,y_train, y_test = train_test_split(x, y, test_size=0.2, random_state=142)"
   ]
  },
  {
   "cell_type": "markdown",
   "id": "0696d66e",
   "metadata": {},
   "source": [
    "Building  linear regression model"
   ]
  },
  {
   "cell_type": "code",
   "execution_count": 49,
   "id": "8b14c322",
   "metadata": {},
   "outputs": [],
   "source": [
    "from sklearn.linear_model import LinearRegression"
   ]
  },
  {
   "cell_type": "code",
   "execution_count": 50,
   "id": "88def34a",
   "metadata": {},
   "outputs": [],
   "source": [
    "lr_model = LinearRegression()"
   ]
  },
  {
   "cell_type": "code",
   "execution_count": 51,
   "id": "99cf2720",
   "metadata": {},
   "outputs": [
    {
     "data": {
      "text/plain": [
       "LinearRegression()"
      ]
     },
     "execution_count": 51,
     "metadata": {},
     "output_type": "execute_result"
    }
   ],
   "source": [
    "lr_model.fit(x_train, y_train)"
   ]
  },
  {
   "cell_type": "code",
   "execution_count": 52,
   "id": "f112ba99",
   "metadata": {},
   "outputs": [],
   "source": [
    "y_pred = lr_model.predict(x_test)"
   ]
  },
  {
   "cell_type": "markdown",
   "id": "4d156fb3",
   "metadata": {},
   "source": [
    "Checking the accuracy of the model"
   ]
  },
  {
   "cell_type": "code",
   "execution_count": 53,
   "id": "962c0238",
   "metadata": {},
   "outputs": [],
   "source": [
    "from sklearn.metrics import mean_squared_error"
   ]
  },
  {
   "cell_type": "code",
   "execution_count": 54,
   "id": "41bfac7f",
   "metadata": {},
   "outputs": [
    {
     "name": "stdout",
     "output_type": "stream",
     "text": [
      "MSE is :  103380.63902472547\n"
     ]
    }
   ],
   "source": [
    "print('MSE is : ', mean_squared_error(y_test, y_pred))"
   ]
  },
  {
   "cell_type": "code",
   "execution_count": 55,
   "id": "f8fd0576",
   "metadata": {},
   "outputs": [],
   "source": [
    "from sklearn.metrics import r2_score"
   ]
  },
  {
   "cell_type": "code",
   "execution_count": 56,
   "id": "5e73c830",
   "metadata": {},
   "outputs": [
    {
     "name": "stdout",
     "output_type": "stream",
     "text": [
      "R Sq value is :  -0.8374259386619449\n"
     ]
    }
   ],
   "source": [
    "print('R Sq value is : ', r2_score(y_test, y_pred))"
   ]
  },
  {
   "cell_type": "markdown",
   "id": "b8879ae9",
   "metadata": {},
   "source": [
    "## Scaling the variable performance_score "
   ]
  },
  {
   "cell_type": "code",
   "execution_count": 57,
   "id": "4d440922",
   "metadata": {},
   "outputs": [],
   "source": [
    "from sklearn import preprocessing"
   ]
  },
  {
   "cell_type": "code",
   "execution_count": 58,
   "id": "d02e2873",
   "metadata": {},
   "outputs": [],
   "source": [
    "std = preprocessing.StandardScaler()"
   ]
  },
  {
   "cell_type": "code",
   "execution_count": 59,
   "id": "24c10e96",
   "metadata": {},
   "outputs": [],
   "source": [
    "df[['performance_score']] = std.fit_transform(df[['performance_score']])"
   ]
  },
  {
   "cell_type": "markdown",
   "id": "5365efa0",
   "metadata": {},
   "source": [
    "Now again we fit the model and check the effect of scaling."
   ]
  },
  {
   "cell_type": "code",
   "execution_count": 60,
   "id": "bde2eec7",
   "metadata": {},
   "outputs": [],
   "source": [
    "x = df.drop(['performance_score'], axis=1)"
   ]
  },
  {
   "cell_type": "code",
   "execution_count": 61,
   "id": "99364841",
   "metadata": {},
   "outputs": [],
   "source": [
    "y = df['performance_score']"
   ]
  },
  {
   "cell_type": "code",
   "execution_count": 62,
   "id": "ff2af946",
   "metadata": {},
   "outputs": [],
   "source": [
    "x_train, x_test,y_train, y_test = train_test_split(x, y, test_size=0.2, random_state=142)"
   ]
  },
  {
   "cell_type": "code",
   "execution_count": 63,
   "id": "b696aba0",
   "metadata": {},
   "outputs": [
    {
     "data": {
      "text/plain": [
       "LinearRegression()"
      ]
     },
     "execution_count": 63,
     "metadata": {},
     "output_type": "execute_result"
    }
   ],
   "source": [
    "lr_model.fit(x_train, y_train)"
   ]
  },
  {
   "cell_type": "code",
   "execution_count": 64,
   "id": "c4ed6df4",
   "metadata": {},
   "outputs": [],
   "source": [
    "new_pred = lr_model.predict(x_test)"
   ]
  },
  {
   "cell_type": "code",
   "execution_count": 65,
   "id": "f474526b",
   "metadata": {},
   "outputs": [
    {
     "name": "stdout",
     "output_type": "stream",
     "text": [
      "MSE is :  6.1329280497749235\n"
     ]
    }
   ],
   "source": [
    "print('MSE is : ', mean_squared_error(y_test, new_pred))"
   ]
  },
  {
   "cell_type": "code",
   "execution_count": 66,
   "id": "3090f58c",
   "metadata": {},
   "outputs": [
    {
     "name": "stdout",
     "output_type": "stream",
     "text": [
      "R Sq value is :  -0.8374259386619458\n"
     ]
    }
   ],
   "source": [
    "print('R Sq value is : ', r2_score(y_test, new_pred))"
   ]
  },
  {
   "cell_type": "markdown",
   "id": "6755915e",
   "metadata": {},
   "source": [
    "Mean square value has decreased but the R square value remains the same"
   ]
  },
  {
   "cell_type": "code",
   "execution_count": null,
   "id": "9f849c6e",
   "metadata": {},
   "outputs": [],
   "source": []
  }
 ],
 "metadata": {
  "kernelspec": {
   "display_name": "Python 3",
   "language": "python",
   "name": "python3"
  },
  "language_info": {
   "codemirror_mode": {
    "name": "ipython",
    "version": 3
   },
   "file_extension": ".py",
   "mimetype": "text/x-python",
   "name": "python",
   "nbconvert_exporter": "python",
   "pygments_lexer": "ipython3",
   "version": "3.8.8"
  }
 },
 "nbformat": 4,
 "nbformat_minor": 5
}
